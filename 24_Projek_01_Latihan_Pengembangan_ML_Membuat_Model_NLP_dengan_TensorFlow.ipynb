{
  "nbformat": 4,
  "nbformat_minor": 0,
  "metadata": {
    "colab": {
      "provenance": [],
      "collapsed_sections": []
    },
    "kernelspec": {
      "name": "python3",
      "display_name": "Python 3"
    },
    "language_info": {
      "name": "python"
    }
  },
  "cells": [
    {
      "cell_type": "markdown",
      "source": [
        "**Proyek 1 : Membuat Model NLP dengan TensorFlow**\n",
        "\n",
        "Hana Octavia Trinida Malo\n",
        "\n",
        "M05\n",
        "\n"
      ],
      "metadata": {
        "id": "MAsUbqUW2krc"
      }
    },
    {
      "cell_type": "markdown",
      "source": [
        "1. Membaca Dataset\n",
        "\n",
        "Import Library pandas dan ubah dataset menjadi dataframe. sebelum itu saya menyimpan dataset pada folder file /content/sample_data/\n",
        "\n",
        "Dataset yang saya pakai adalah dataset berupa review tokopedia yang sudah diberi label : https://www.kaggle.com/datasets/kulitekno/tokopedia-product-review-category-food-and-drink?select=dataset_review_tokped_labelled.csv"
      ],
      "metadata": {
        "id": "EOQNU9s92_QL"
      }
    },
    {
      "cell_type": "code",
      "execution_count": null,
      "metadata": {
        "id": "O2FNPbHrbR1b"
      },
      "outputs": [],
      "source": [
        "import pandas as pd\n",
        "df = pd.read_csv('/content/sample_data/dataset_review_tokped_labelled.csv')"
      ]
    },
    {
      "cell_type": "markdown",
      "source": [
        "2. Menampilkan Sample\n",
        "\n",
        "Dari dataset yang saya gunakan, berisi 4060 baris data dan 3 kolom"
      ],
      "metadata": {
        "id": "X651ApFQ3oZv"
      }
    },
    {
      "cell_type": "code",
      "source": [
        "df"
      ],
      "metadata": {
        "colab": {
          "base_uri": "https://localhost:8080/",
          "height": 424
        },
        "id": "wtYy3BDab_2U",
        "outputId": "9e2466fa-a49f-4032-af18-33d2629311a0"
      },
      "execution_count": null,
      "outputs": [
        {
          "output_type": "execute_result",
          "data": {
            "text/plain": [
              "                                                 Review  Rating Sentiment\n",
              "0                                         enak kuacinya       5  positive\n",
              "1     pengiriman cepat packing bagus sesuai pesanan ...       5  positive\n",
              "2     pengemasan luar biasa baik untuk rasa menurut ...       4  negative\n",
              "3                                       terimakasih min       5   neutral\n",
              "4                    udah order untuk kesekian kali jos       5   neutral\n",
              "...                                                 ...     ...       ...\n",
              "4055  seller sangat responsif rasa belum dicoba kare...       5   neutral\n",
              "4056                          imut2 banget packing aman       5  positive\n",
              "4057                        good product trusted seller       5  positive\n",
              "4058                                 sudah beli yg ke 3       5   neutral\n",
              "4059                                    byk campurannya       4   neutral\n",
              "\n",
              "[4060 rows x 3 columns]"
            ],
            "text/html": [
              "\n",
              "  <div id=\"df-270bccd7-3b62-440e-bec4-4f16da9da95b\">\n",
              "    <div class=\"colab-df-container\">\n",
              "      <div>\n",
              "<style scoped>\n",
              "    .dataframe tbody tr th:only-of-type {\n",
              "        vertical-align: middle;\n",
              "    }\n",
              "\n",
              "    .dataframe tbody tr th {\n",
              "        vertical-align: top;\n",
              "    }\n",
              "\n",
              "    .dataframe thead th {\n",
              "        text-align: right;\n",
              "    }\n",
              "</style>\n",
              "<table border=\"1\" class=\"dataframe\">\n",
              "  <thead>\n",
              "    <tr style=\"text-align: right;\">\n",
              "      <th></th>\n",
              "      <th>Review</th>\n",
              "      <th>Rating</th>\n",
              "      <th>Sentiment</th>\n",
              "    </tr>\n",
              "  </thead>\n",
              "  <tbody>\n",
              "    <tr>\n",
              "      <th>0</th>\n",
              "      <td>enak kuacinya</td>\n",
              "      <td>5</td>\n",
              "      <td>positive</td>\n",
              "    </tr>\n",
              "    <tr>\n",
              "      <th>1</th>\n",
              "      <td>pengiriman cepat packing bagus sesuai pesanan ...</td>\n",
              "      <td>5</td>\n",
              "      <td>positive</td>\n",
              "    </tr>\n",
              "    <tr>\n",
              "      <th>2</th>\n",
              "      <td>pengemasan luar biasa baik untuk rasa menurut ...</td>\n",
              "      <td>4</td>\n",
              "      <td>negative</td>\n",
              "    </tr>\n",
              "    <tr>\n",
              "      <th>3</th>\n",
              "      <td>terimakasih min</td>\n",
              "      <td>5</td>\n",
              "      <td>neutral</td>\n",
              "    </tr>\n",
              "    <tr>\n",
              "      <th>4</th>\n",
              "      <td>udah order untuk kesekian kali jos</td>\n",
              "      <td>5</td>\n",
              "      <td>neutral</td>\n",
              "    </tr>\n",
              "    <tr>\n",
              "      <th>...</th>\n",
              "      <td>...</td>\n",
              "      <td>...</td>\n",
              "      <td>...</td>\n",
              "    </tr>\n",
              "    <tr>\n",
              "      <th>4055</th>\n",
              "      <td>seller sangat responsif rasa belum dicoba kare...</td>\n",
              "      <td>5</td>\n",
              "      <td>neutral</td>\n",
              "    </tr>\n",
              "    <tr>\n",
              "      <th>4056</th>\n",
              "      <td>imut2 banget packing aman</td>\n",
              "      <td>5</td>\n",
              "      <td>positive</td>\n",
              "    </tr>\n",
              "    <tr>\n",
              "      <th>4057</th>\n",
              "      <td>good product trusted seller</td>\n",
              "      <td>5</td>\n",
              "      <td>positive</td>\n",
              "    </tr>\n",
              "    <tr>\n",
              "      <th>4058</th>\n",
              "      <td>sudah beli yg ke 3</td>\n",
              "      <td>5</td>\n",
              "      <td>neutral</td>\n",
              "    </tr>\n",
              "    <tr>\n",
              "      <th>4059</th>\n",
              "      <td>byk campurannya</td>\n",
              "      <td>4</td>\n",
              "      <td>neutral</td>\n",
              "    </tr>\n",
              "  </tbody>\n",
              "</table>\n",
              "<p>4060 rows × 3 columns</p>\n",
              "</div>\n",
              "      <button class=\"colab-df-convert\" onclick=\"convertToInteractive('df-270bccd7-3b62-440e-bec4-4f16da9da95b')\"\n",
              "              title=\"Convert this dataframe to an interactive table.\"\n",
              "              style=\"display:none;\">\n",
              "        \n",
              "  <svg xmlns=\"http://www.w3.org/2000/svg\" height=\"24px\"viewBox=\"0 0 24 24\"\n",
              "       width=\"24px\">\n",
              "    <path d=\"M0 0h24v24H0V0z\" fill=\"none\"/>\n",
              "    <path d=\"M18.56 5.44l.94 2.06.94-2.06 2.06-.94-2.06-.94-.94-2.06-.94 2.06-2.06.94zm-11 1L8.5 8.5l.94-2.06 2.06-.94-2.06-.94L8.5 2.5l-.94 2.06-2.06.94zm10 10l.94 2.06.94-2.06 2.06-.94-2.06-.94-.94-2.06-.94 2.06-2.06.94z\"/><path d=\"M17.41 7.96l-1.37-1.37c-.4-.4-.92-.59-1.43-.59-.52 0-1.04.2-1.43.59L10.3 9.45l-7.72 7.72c-.78.78-.78 2.05 0 2.83L4 21.41c.39.39.9.59 1.41.59.51 0 1.02-.2 1.41-.59l7.78-7.78 2.81-2.81c.8-.78.8-2.07 0-2.86zM5.41 20L4 18.59l7.72-7.72 1.47 1.35L5.41 20z\"/>\n",
              "  </svg>\n",
              "      </button>\n",
              "      \n",
              "  <style>\n",
              "    .colab-df-container {\n",
              "      display:flex;\n",
              "      flex-wrap:wrap;\n",
              "      gap: 12px;\n",
              "    }\n",
              "\n",
              "    .colab-df-convert {\n",
              "      background-color: #E8F0FE;\n",
              "      border: none;\n",
              "      border-radius: 50%;\n",
              "      cursor: pointer;\n",
              "      display: none;\n",
              "      fill: #1967D2;\n",
              "      height: 32px;\n",
              "      padding: 0 0 0 0;\n",
              "      width: 32px;\n",
              "    }\n",
              "\n",
              "    .colab-df-convert:hover {\n",
              "      background-color: #E2EBFA;\n",
              "      box-shadow: 0px 1px 2px rgba(60, 64, 67, 0.3), 0px 1px 3px 1px rgba(60, 64, 67, 0.15);\n",
              "      fill: #174EA6;\n",
              "    }\n",
              "\n",
              "    [theme=dark] .colab-df-convert {\n",
              "      background-color: #3B4455;\n",
              "      fill: #D2E3FC;\n",
              "    }\n",
              "\n",
              "    [theme=dark] .colab-df-convert:hover {\n",
              "      background-color: #434B5C;\n",
              "      box-shadow: 0px 1px 3px 1px rgba(0, 0, 0, 0.15);\n",
              "      filter: drop-shadow(0px 1px 2px rgba(0, 0, 0, 0.3));\n",
              "      fill: #FFFFFF;\n",
              "    }\n",
              "  </style>\n",
              "\n",
              "      <script>\n",
              "        const buttonEl =\n",
              "          document.querySelector('#df-270bccd7-3b62-440e-bec4-4f16da9da95b button.colab-df-convert');\n",
              "        buttonEl.style.display =\n",
              "          google.colab.kernel.accessAllowed ? 'block' : 'none';\n",
              "\n",
              "        async function convertToInteractive(key) {\n",
              "          const element = document.querySelector('#df-270bccd7-3b62-440e-bec4-4f16da9da95b');\n",
              "          const dataTable =\n",
              "            await google.colab.kernel.invokeFunction('convertToInteractive',\n",
              "                                                     [key], {});\n",
              "          if (!dataTable) return;\n",
              "\n",
              "          const docLinkHtml = 'Like what you see? Visit the ' +\n",
              "            '<a target=\"_blank\" href=https://colab.research.google.com/notebooks/data_table.ipynb>data table notebook</a>'\n",
              "            + ' to learn more about interactive tables.';\n",
              "          element.innerHTML = '';\n",
              "          dataTable['output_type'] = 'display_data';\n",
              "          await google.colab.output.renderOutput(dataTable, element);\n",
              "          const docLink = document.createElement('div');\n",
              "          docLink.innerHTML = docLinkHtml;\n",
              "          element.appendChild(docLink);\n",
              "        }\n",
              "      </script>\n",
              "    </div>\n",
              "  </div>\n",
              "  "
            ]
          },
          "metadata": {},
          "execution_count": 2
        }
      ]
    },
    {
      "cell_type": "markdown",
      "source": [
        "3. Lakukan proses one-hot-encoding\n"
      ],
      "metadata": {
        "id": "GZ4cxle-i8ms"
      }
    },
    {
      "cell_type": "code",
      "source": [
        "category = pd.get_dummies(df.Sentiment)\n",
        "df_baru = pd.concat([df, category], axis=1)\n",
        "df_baru = df_baru.drop(columns='Sentiment')\n",
        "df_baru = df_baru.drop(columns='Rating')\n",
        "df_baru"
      ],
      "metadata": {
        "colab": {
          "base_uri": "https://localhost:8080/",
          "height": 424
        },
        "id": "bjulHc0Ocof7",
        "outputId": "d67daba2-8ab1-4b1a-f876-36a4367d5afb"
      },
      "execution_count": null,
      "outputs": [
        {
          "output_type": "execute_result",
          "data": {
            "text/plain": [
              "                                                 Review  negative  neutral  \\\n",
              "0                                         enak kuacinya         0        0   \n",
              "1     pengiriman cepat packing bagus sesuai pesanan ...         0        0   \n",
              "2     pengemasan luar biasa baik untuk rasa menurut ...         1        0   \n",
              "3                                       terimakasih min         0        1   \n",
              "4                    udah order untuk kesekian kali jos         0        1   \n",
              "...                                                 ...       ...      ...   \n",
              "4055  seller sangat responsif rasa belum dicoba kare...         0        1   \n",
              "4056                          imut2 banget packing aman         0        0   \n",
              "4057                        good product trusted seller         0        0   \n",
              "4058                                 sudah beli yg ke 3         0        1   \n",
              "4059                                    byk campurannya         0        1   \n",
              "\n",
              "      positive  \n",
              "0            1  \n",
              "1            1  \n",
              "2            0  \n",
              "3            0  \n",
              "4            0  \n",
              "...        ...  \n",
              "4055         0  \n",
              "4056         1  \n",
              "4057         1  \n",
              "4058         0  \n",
              "4059         0  \n",
              "\n",
              "[4060 rows x 4 columns]"
            ],
            "text/html": [
              "\n",
              "  <div id=\"df-9c609221-ef1f-469e-9013-cc0fa918cd96\">\n",
              "    <div class=\"colab-df-container\">\n",
              "      <div>\n",
              "<style scoped>\n",
              "    .dataframe tbody tr th:only-of-type {\n",
              "        vertical-align: middle;\n",
              "    }\n",
              "\n",
              "    .dataframe tbody tr th {\n",
              "        vertical-align: top;\n",
              "    }\n",
              "\n",
              "    .dataframe thead th {\n",
              "        text-align: right;\n",
              "    }\n",
              "</style>\n",
              "<table border=\"1\" class=\"dataframe\">\n",
              "  <thead>\n",
              "    <tr style=\"text-align: right;\">\n",
              "      <th></th>\n",
              "      <th>Review</th>\n",
              "      <th>negative</th>\n",
              "      <th>neutral</th>\n",
              "      <th>positive</th>\n",
              "    </tr>\n",
              "  </thead>\n",
              "  <tbody>\n",
              "    <tr>\n",
              "      <th>0</th>\n",
              "      <td>enak kuacinya</td>\n",
              "      <td>0</td>\n",
              "      <td>0</td>\n",
              "      <td>1</td>\n",
              "    </tr>\n",
              "    <tr>\n",
              "      <th>1</th>\n",
              "      <td>pengiriman cepat packing bagus sesuai pesanan ...</td>\n",
              "      <td>0</td>\n",
              "      <td>0</td>\n",
              "      <td>1</td>\n",
              "    </tr>\n",
              "    <tr>\n",
              "      <th>2</th>\n",
              "      <td>pengemasan luar biasa baik untuk rasa menurut ...</td>\n",
              "      <td>1</td>\n",
              "      <td>0</td>\n",
              "      <td>0</td>\n",
              "    </tr>\n",
              "    <tr>\n",
              "      <th>3</th>\n",
              "      <td>terimakasih min</td>\n",
              "      <td>0</td>\n",
              "      <td>1</td>\n",
              "      <td>0</td>\n",
              "    </tr>\n",
              "    <tr>\n",
              "      <th>4</th>\n",
              "      <td>udah order untuk kesekian kali jos</td>\n",
              "      <td>0</td>\n",
              "      <td>1</td>\n",
              "      <td>0</td>\n",
              "    </tr>\n",
              "    <tr>\n",
              "      <th>...</th>\n",
              "      <td>...</td>\n",
              "      <td>...</td>\n",
              "      <td>...</td>\n",
              "      <td>...</td>\n",
              "    </tr>\n",
              "    <tr>\n",
              "      <th>4055</th>\n",
              "      <td>seller sangat responsif rasa belum dicoba kare...</td>\n",
              "      <td>0</td>\n",
              "      <td>1</td>\n",
              "      <td>0</td>\n",
              "    </tr>\n",
              "    <tr>\n",
              "      <th>4056</th>\n",
              "      <td>imut2 banget packing aman</td>\n",
              "      <td>0</td>\n",
              "      <td>0</td>\n",
              "      <td>1</td>\n",
              "    </tr>\n",
              "    <tr>\n",
              "      <th>4057</th>\n",
              "      <td>good product trusted seller</td>\n",
              "      <td>0</td>\n",
              "      <td>0</td>\n",
              "      <td>1</td>\n",
              "    </tr>\n",
              "    <tr>\n",
              "      <th>4058</th>\n",
              "      <td>sudah beli yg ke 3</td>\n",
              "      <td>0</td>\n",
              "      <td>1</td>\n",
              "      <td>0</td>\n",
              "    </tr>\n",
              "    <tr>\n",
              "      <th>4059</th>\n",
              "      <td>byk campurannya</td>\n",
              "      <td>0</td>\n",
              "      <td>1</td>\n",
              "      <td>0</td>\n",
              "    </tr>\n",
              "  </tbody>\n",
              "</table>\n",
              "<p>4060 rows × 4 columns</p>\n",
              "</div>\n",
              "      <button class=\"colab-df-convert\" onclick=\"convertToInteractive('df-9c609221-ef1f-469e-9013-cc0fa918cd96')\"\n",
              "              title=\"Convert this dataframe to an interactive table.\"\n",
              "              style=\"display:none;\">\n",
              "        \n",
              "  <svg xmlns=\"http://www.w3.org/2000/svg\" height=\"24px\"viewBox=\"0 0 24 24\"\n",
              "       width=\"24px\">\n",
              "    <path d=\"M0 0h24v24H0V0z\" fill=\"none\"/>\n",
              "    <path d=\"M18.56 5.44l.94 2.06.94-2.06 2.06-.94-2.06-.94-.94-2.06-.94 2.06-2.06.94zm-11 1L8.5 8.5l.94-2.06 2.06-.94-2.06-.94L8.5 2.5l-.94 2.06-2.06.94zm10 10l.94 2.06.94-2.06 2.06-.94-2.06-.94-.94-2.06-.94 2.06-2.06.94z\"/><path d=\"M17.41 7.96l-1.37-1.37c-.4-.4-.92-.59-1.43-.59-.52 0-1.04.2-1.43.59L10.3 9.45l-7.72 7.72c-.78.78-.78 2.05 0 2.83L4 21.41c.39.39.9.59 1.41.59.51 0 1.02-.2 1.41-.59l7.78-7.78 2.81-2.81c.8-.78.8-2.07 0-2.86zM5.41 20L4 18.59l7.72-7.72 1.47 1.35L5.41 20z\"/>\n",
              "  </svg>\n",
              "      </button>\n",
              "      \n",
              "  <style>\n",
              "    .colab-df-container {\n",
              "      display:flex;\n",
              "      flex-wrap:wrap;\n",
              "      gap: 12px;\n",
              "    }\n",
              "\n",
              "    .colab-df-convert {\n",
              "      background-color: #E8F0FE;\n",
              "      border: none;\n",
              "      border-radius: 50%;\n",
              "      cursor: pointer;\n",
              "      display: none;\n",
              "      fill: #1967D2;\n",
              "      height: 32px;\n",
              "      padding: 0 0 0 0;\n",
              "      width: 32px;\n",
              "    }\n",
              "\n",
              "    .colab-df-convert:hover {\n",
              "      background-color: #E2EBFA;\n",
              "      box-shadow: 0px 1px 2px rgba(60, 64, 67, 0.3), 0px 1px 3px 1px rgba(60, 64, 67, 0.15);\n",
              "      fill: #174EA6;\n",
              "    }\n",
              "\n",
              "    [theme=dark] .colab-df-convert {\n",
              "      background-color: #3B4455;\n",
              "      fill: #D2E3FC;\n",
              "    }\n",
              "\n",
              "    [theme=dark] .colab-df-convert:hover {\n",
              "      background-color: #434B5C;\n",
              "      box-shadow: 0px 1px 3px 1px rgba(0, 0, 0, 0.15);\n",
              "      filter: drop-shadow(0px 1px 2px rgba(0, 0, 0, 0.3));\n",
              "      fill: #FFFFFF;\n",
              "    }\n",
              "  </style>\n",
              "\n",
              "      <script>\n",
              "        const buttonEl =\n",
              "          document.querySelector('#df-9c609221-ef1f-469e-9013-cc0fa918cd96 button.colab-df-convert');\n",
              "        buttonEl.style.display =\n",
              "          google.colab.kernel.accessAllowed ? 'block' : 'none';\n",
              "\n",
              "        async function convertToInteractive(key) {\n",
              "          const element = document.querySelector('#df-9c609221-ef1f-469e-9013-cc0fa918cd96');\n",
              "          const dataTable =\n",
              "            await google.colab.kernel.invokeFunction('convertToInteractive',\n",
              "                                                     [key], {});\n",
              "          if (!dataTable) return;\n",
              "\n",
              "          const docLinkHtml = 'Like what you see? Visit the ' +\n",
              "            '<a target=\"_blank\" href=https://colab.research.google.com/notebooks/data_table.ipynb>data table notebook</a>'\n",
              "            + ' to learn more about interactive tables.';\n",
              "          element.innerHTML = '';\n",
              "          dataTable['output_type'] = 'display_data';\n",
              "          await google.colab.output.renderOutput(dataTable, element);\n",
              "          const docLink = document.createElement('div');\n",
              "          docLink.innerHTML = docLinkHtml;\n",
              "          element.appendChild(docLink);\n",
              "        }\n",
              "      </script>\n",
              "    </div>\n",
              "  </div>\n",
              "  "
            ]
          },
          "metadata": {},
          "execution_count": 3
        }
      ]
    },
    {
      "cell_type": "markdown",
      "source": [
        "4. Mengubah nilai-nilai dari dataframe ke dalam tipe data numpy array \n",
        "\n",
        "Gunakan atribut values untuk mengubah nilai-nilai tersebut"
      ],
      "metadata": {
        "id": "qjLZIXDKjDhB"
      }
    },
    {
      "cell_type": "code",
      "source": [
        "review = df_baru['Review'].values\n",
        "label = df_baru[['negative', 'neutral', 'positive']].values"
      ],
      "metadata": {
        "id": "mixVWcxZjIXn"
      },
      "execution_count": null,
      "outputs": []
    },
    {
      "cell_type": "markdown",
      "source": [
        "5. Membagi data train dan data test\n",
        "test_size = 0.2, karena saya ingin data pada validation set sebesar 20% dari total dataset."
      ],
      "metadata": {
        "id": "1tRvlYEWjFwG"
      }
    },
    {
      "cell_type": "code",
      "source": [
        "from sklearn.model_selection import train_test_split\n",
        "review_latih, review_test, label_latih, label_test = train_test_split(review, label, test_size=0.2)"
      ],
      "metadata": {
        "id": "Wm1Gy5TTjtLX"
      },
      "execution_count": null,
      "outputs": []
    },
    {
      "cell_type": "markdown",
      "source": [
        "6. Implementasin Tokenizer dan Sequence."
      ],
      "metadata": {
        "id": "K6kG3kzUjLbv"
      }
    },
    {
      "cell_type": "code",
      "source": [
        "from tensorflow.keras.preprocessing.text import Tokenizer\n",
        "from tensorflow.keras.preprocessing.sequence import pad_sequences\n",
        " \n",
        "tokenizer = Tokenizer(num_words=500, oov_token='x')\n",
        "tokenizer.fit_on_texts(review_latih) \n",
        "tokenizer.fit_on_texts(review_test)\n",
        " \n",
        "sekuens_latih = tokenizer.texts_to_sequences(review_latih)\n",
        "sekuens_test = tokenizer.texts_to_sequences(review_test)\n",
        " \n",
        "padded_latih = pad_sequences(sekuens_latih) \n",
        "padded_test = pad_sequences(sekuens_test)"
      ],
      "metadata": {
        "id": "-soJCB_hkEEX"
      },
      "execution_count": null,
      "outputs": []
    },
    {
      "cell_type": "markdown",
      "source": [
        "7. Implementasi Model Sequensial\n",
        "\n",
        "Untuk arsitektur model saya menggunakan layer Embedding dengan dimensi embedding sebesar 16, serta dimensi dari input sebesar nilai num_words 500, penggunaan dropout, LTSM, 1 hidden layer dan output layer 3 class\n"
      ],
      "metadata": {
        "id": "wNUXjP6_jQ0R"
      }
    },
    {
      "cell_type": "code",
      "source": [
        "import tensorflow as tf\n",
        "model = tf.keras.Sequential([\n",
        "    tf.keras.layers.Embedding(input_dim=500, output_dim=16),\n",
        "    tf.keras.layers.LSTM(64),\n",
        "    tf.keras.layers.Dense(128, activation='relu'),\n",
        "    tf.keras.layers.Dense(64, activation='relu'),\n",
        "    tf.keras.layers.Dense(3, activation='softmax')\n",
        "])"
      ],
      "metadata": {
        "id": "ehP0P6Lgkacb"
      },
      "execution_count": null,
      "outputs": []
    },
    {
      "cell_type": "markdown",
      "source": [
        "8. Mengkompile model yang sudah dibuat\n",
        "\n",
        "Compile model menggunakan fungsi compile(). Optimizer yang digunakan adalah 'adam', Loss function yang digunakan adalah 'categorical_crossentropy'."
      ],
      "metadata": {
        "id": "5DUgGwUp7lL4"
      }
    },
    {
      "cell_type": "code",
      "source": [
        "model.compile(loss='categorical_crossentropy',\n",
        "              optimizer='adam',\n",
        "              metrics=['accuracy'])"
      ],
      "metadata": {
        "id": "DB1rMcYBkfpN"
      },
      "execution_count": null,
      "outputs": []
    },
    {
      "cell_type": "markdown",
      "source": [
        "9. Penggunaan Callback"
      ],
      "metadata": {
        "id": "45en9KDq7wV5"
      }
    },
    {
      "cell_type": "code",
      "source": [
        "class myCallback(tf.keras.callbacks.Callback):\n",
        "  def on_epoch_end(self, epoch, logs={}):\n",
        "    if(logs.get('accuracy')>0.90) and (logs.get('val_accuracy')>0.80):\n",
        "      print(\"\\nAkurasi telah mencapai >90%!\") \n",
        "      self.model.stop_training = True\n",
        "callbacks = myCallback()"
      ],
      "metadata": {
        "id": "1hb2j2iEiEpd"
      },
      "execution_count": null,
      "outputs": []
    },
    {
      "cell_type": "markdown",
      "source": [
        "10. Pelatihan Model"
      ],
      "metadata": {
        "id": "uZ8b6jtaJRLk"
      }
    },
    {
      "cell_type": "code",
      "source": [
        "history = model.fit(padded_latih, label_latih, epochs=20, \n",
        "                    validation_data=(padded_test, label_test), verbose=2, callbacks=[callbacks])"
      ],
      "metadata": {
        "colab": {
          "base_uri": "https://localhost:8080/"
        },
        "id": "0_IlX8uYfTyD",
        "outputId": "e7811bbe-df76-403a-936a-65a31e06d113"
      },
      "execution_count": null,
      "outputs": [
        {
          "output_type": "stream",
          "name": "stdout",
          "text": [
            "Epoch 1/20\n",
            "102/102 - 13s - loss: 0.8074 - accuracy: 0.7094 - val_loss: 0.6807 - val_accuracy: 0.7118 - 13s/epoch - 123ms/step\n",
            "Epoch 2/20\n",
            "102/102 - 10s - loss: 0.5662 - accuracy: 0.7599 - val_loss: 0.5376 - val_accuracy: 0.7759 - 10s/epoch - 96ms/step\n",
            "Epoch 3/20\n",
            "102/102 - 12s - loss: 0.4436 - accuracy: 0.8202 - val_loss: 0.5347 - val_accuracy: 0.7882 - 12s/epoch - 120ms/step\n",
            "Epoch 4/20\n",
            "102/102 - 10s - loss: 0.3883 - accuracy: 0.8498 - val_loss: 0.5179 - val_accuracy: 0.7956 - 10s/epoch - 97ms/step\n",
            "Epoch 5/20\n",
            "102/102 - 10s - loss: 0.3507 - accuracy: 0.8559 - val_loss: 0.5421 - val_accuracy: 0.7968 - 10s/epoch - 100ms/step\n",
            "Epoch 6/20\n",
            "102/102 - 10s - loss: 0.3251 - accuracy: 0.8673 - val_loss: 0.5852 - val_accuracy: 0.7931 - 10s/epoch - 97ms/step\n",
            "Epoch 7/20\n",
            "102/102 - 10s - loss: 0.3185 - accuracy: 0.8676 - val_loss: 0.5903 - val_accuracy: 0.7845 - 10s/epoch - 96ms/step\n",
            "Epoch 8/20\n",
            "102/102 - 10s - loss: 0.3001 - accuracy: 0.8821 - val_loss: 0.6032 - val_accuracy: 0.7931 - 10s/epoch - 97ms/step\n",
            "Epoch 9/20\n",
            "102/102 - 10s - loss: 0.2845 - accuracy: 0.8867 - val_loss: 0.6644 - val_accuracy: 0.7820 - 10s/epoch - 96ms/step\n",
            "Epoch 10/20\n",
            "102/102 - 10s - loss: 0.2804 - accuracy: 0.8845 - val_loss: 0.6385 - val_accuracy: 0.7882 - 10s/epoch - 97ms/step\n",
            "Epoch 11/20\n",
            "102/102 - 10s - loss: 0.2888 - accuracy: 0.8821 - val_loss: 0.6372 - val_accuracy: 0.7882 - 10s/epoch - 96ms/step\n",
            "Epoch 12/20\n",
            "102/102 - 11s - loss: 0.2670 - accuracy: 0.8953 - val_loss: 0.7084 - val_accuracy: 0.7943 - 11s/epoch - 105ms/step\n",
            "Epoch 13/20\n",
            "102/102 - 10s - loss: 0.2569 - accuracy: 0.9015 - val_loss: 0.6807 - val_accuracy: 0.7796 - 10s/epoch - 96ms/step\n",
            "Epoch 14/20\n",
            "102/102 - 10s - loss: 0.2532 - accuracy: 0.8996 - val_loss: 0.6373 - val_accuracy: 0.7796 - 10s/epoch - 97ms/step\n",
            "Epoch 15/20\n",
            "102/102 - 10s - loss: 0.2338 - accuracy: 0.9061 - val_loss: 0.7338 - val_accuracy: 0.7709 - 10s/epoch - 97ms/step\n",
            "Epoch 16/20\n",
            "102/102 - 10s - loss: 0.2279 - accuracy: 0.9058 - val_loss: 0.7501 - val_accuracy: 0.7759 - 10s/epoch - 97ms/step\n",
            "Epoch 17/20\n",
            "102/102 - 10s - loss: 0.2194 - accuracy: 0.9178 - val_loss: 0.7682 - val_accuracy: 0.7623 - 10s/epoch - 96ms/step\n",
            "Epoch 18/20\n",
            "102/102 - 10s - loss: 0.2084 - accuracy: 0.9175 - val_loss: 0.8269 - val_accuracy: 0.7697 - 10s/epoch - 97ms/step\n",
            "Epoch 19/20\n",
            "102/102 - 10s - loss: 0.2035 - accuracy: 0.9209 - val_loss: 0.8644 - val_accuracy: 0.7759 - 10s/epoch - 96ms/step\n",
            "Epoch 20/20\n",
            "102/102 - 10s - loss: 0.1926 - accuracy: 0.9209 - val_loss: 0.8342 - val_accuracy: 0.7820 - 10s/epoch - 97ms/step\n"
          ]
        }
      ]
    },
    {
      "cell_type": "markdown",
      "source": [
        "11. Membuat plot akurasi dari model"
      ],
      "metadata": {
        "id": "a34eKSD3i0qF"
      }
    },
    {
      "cell_type": "code",
      "source": [
        "import matplotlib.pyplot as plt\n",
        "plt.plot(history.history['accuracy'])\n",
        "plt.plot(history.history['val_accuracy'])\n",
        "plt.title('Akurasi Model')\n",
        "plt.ylabel('accuracy')\n",
        "plt.xlabel('epoch')\n",
        "plt.legend(['train', 'test'], loc='upper left')\n",
        "plt.show()"
      ],
      "metadata": {
        "colab": {
          "base_uri": "https://localhost:8080/",
          "height": 295
        },
        "id": "2KqQIBKRiqQS",
        "outputId": "34c420c9-8690-4ca3-d425-bfd3b9d8e97b"
      },
      "execution_count": null,
      "outputs": [
        {
          "output_type": "display_data",
          "data": {
            "text/plain": [
              "<Figure size 432x288 with 1 Axes>"
            ],
            "image/png": "[encoded data removed]"
          },
          "metadata": {
            "needs_background": "light"
          }
        }
      ]
    },
    {
      "cell_type": "markdown",
      "source": [
        "12. Membuat plot loss"
      ],
      "metadata": {
        "id": "errE_o27ivMr"
      }
    },
    {
      "cell_type": "code",
      "source": [
        "plt.plot(history.history['loss'])\n",
        "plt.plot(history.history['val_loss'])\n",
        "plt.title('Loss Model')\n",
        "plt.ylabel('loss')\n",
        "plt.xlabel('epoch')\n",
        "plt.legend(['train', 'test'], loc='upper left')\n",
        "plt.show()"
      ],
      "metadata": {
        "colab": {
          "base_uri": "https://localhost:8080/",
          "height": 295
        },
        "id": "eEZgXR-qiubR",
        "outputId": "42c96dba-0eef-4076-9b12-bf4bf05d9d94"
      },
      "execution_count": null,
      "outputs": [
        {
          "output_type": "display_data",
          "data": {
            "text/plain": [
              "<Figure size 432x288 with 1 Axes>"
            ],
            "image/png": "[encoded data removed]"
          },
          "metadata": {
            "needs_background": "light"
          }
        }
      ]
    }
  ]
}